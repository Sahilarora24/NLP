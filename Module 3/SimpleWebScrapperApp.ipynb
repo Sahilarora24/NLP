{
  "nbformat": 4,
  "nbformat_minor": 0,
  "metadata": {
    "colab": {
      "provenance": [],
      "authorship_tag": "ABX9TyNGbIUE4Mg26LvETHiY1EeU",
      "include_colab_link": true
    },
    "kernelspec": {
      "name": "python3",
      "display_name": "Python 3"
    },
    "language_info": {
      "name": "python"
    }
  },
  "cells": [
    {
      "cell_type": "markdown",
      "metadata": {
        "id": "view-in-github",
        "colab_type": "text"
      },
      "source": [
        "<a href=\"https://colab.research.google.com/github/Sahilarora24/NLP/blob/main/Module%203/SimpleWebScrapperApp.ipynb\" target=\"_parent\"><img src=\"https://colab.research.google.com/assets/colab-badge.svg\" alt=\"Open In Colab\"/></a>"
      ]
    },
    {
      "cell_type": "code",
      "execution_count": 1,
      "metadata": {
        "colab": {
          "base_uri": "https://localhost:8080/"
        },
        "id": "9xo7JZLsY5x1",
        "outputId": "a0bd67ad-f046-4492-b35c-d41910bdc5dc"
      },
      "outputs": [
        {
          "output_type": "stream",
          "name": "stdout",
          "text": [
            "\u001b[?25l   \u001b[90m━━━━━━━━━━━━━━━━━━━━━━━━━━━━━━━━━━━━━━━━\u001b[0m \u001b[32m0.0/2.5 MB\u001b[0m \u001b[31m?\u001b[0m eta \u001b[36m-:--:--\u001b[0m\r\u001b[2K   \u001b[91m━━━━━\u001b[0m\u001b[90m╺\u001b[0m\u001b[90m━━━━━━━━━━━━━━━━━━━━━━━━━━━━━━━━━━\u001b[0m \u001b[32m0.3/2.5 MB\u001b[0m \u001b[31m13.6 MB/s\u001b[0m eta \u001b[36m0:00:01\u001b[0m\r\u001b[2K   \u001b[91m━━━━━━━━━━━━━━━━━━━━━━━━━━━━━━━━━━━━━━━\u001b[0m\u001b[91m╸\u001b[0m \u001b[32m2.5/2.5 MB\u001b[0m \u001b[31m40.1 MB/s\u001b[0m eta \u001b[36m0:00:01\u001b[0m\r\u001b[2K   \u001b[90m━━━━━━━━━━━━━━━━━━━━━━━━━━━━━━━━━━━━━━━━\u001b[0m \u001b[32m2.5/2.5 MB\u001b[0m \u001b[31m30.1 MB/s\u001b[0m eta \u001b[36m0:00:00\u001b[0m\n",
            "\u001b[2K   \u001b[90m━━━━━━━━━━━━━━━━━━━━━━━━━━━━━━━━━━━━━━━━\u001b[0m \u001b[32m45.2/45.2 kB\u001b[0m \u001b[31m3.8 MB/s\u001b[0m eta \u001b[36m0:00:00\u001b[0m\n",
            "\u001b[2K   \u001b[90m━━━━━━━━━━━━━━━━━━━━━━━━━━━━━━━━━━━━━━━━\u001b[0m \u001b[32m50.9/50.9 kB\u001b[0m \u001b[31m3.1 MB/s\u001b[0m eta \u001b[36m0:00:00\u001b[0m\n",
            "\u001b[?25h"
          ]
        }
      ],
      "source": [
        "!pip install -qU langchain-community beautifulsoup4"
      ]
    },
    {
      "cell_type": "code",
      "source": [
        "from langchain_community.document_loaders import WebBaseLoader\n",
        "\n",
        "loader = WebBaseLoader(\"https://medium.com/@sahilarora240792/planning-a-family-event-like-a-diwali-party-can-be-overwhelming-coordinating-venues-food-and-565a2ff2f930\")"
      ],
      "metadata": {
        "id": "msYc3BkM5OFr"
      },
      "execution_count": 56,
      "outputs": []
    },
    {
      "cell_type": "code",
      "source": [
        "docs = loader.load()\n",
        "\n",
        "docs[0].page_content"
      ],
      "metadata": {
        "colab": {
          "base_uri": "https://localhost:8080/",
          "height": 143
        },
        "id": "v-ATDG7b5TsM",
        "outputId": "e495135a-63bb-4b25-d38a-bd52eff5c64e"
      },
      "execution_count": 57,
      "outputs": [
        {
          "output_type": "execute_result",
          "data": {
            "text/plain": [
              "'Planning a family event like a Diwali party can be overwhelming coordinating venues, food, and‚Ä¶ | by Sahil Arora | MediumSitemapOpen in appSign upSign inMedium LogoWriteSign upSign inSahil Arora3 min read¬∑May 7, 2025--1ListenSharePress enter or click to view image in full sizePlanning a family event like a Diwali party can be overwhelming coordinating venues, food, and invites for 30 relatives isn‚Äôt easy. Let‚Äôs see how modern AI tools LLMs, Workflows, and AI Agents ‚Äî can help simplify this task.1. Large Language Models (LLMs)LLMs are AI models trained on huge amounts of text data. They understand and generate human-like language.Think of it as a smart friend who‚Äôs great at giving suggestions, summarising information, and writing content.Press enter or click to view image in full sizeWhat it can do:Generate ideas for your Diwali partySuggest venues, food, and decorWrite invitation messagesSummarize venue details you provideExample in Action: You ask the LLM to help plan a Diwali party. It suggests banquet halls, menus, and decor ideas. You then share a banquet hall webpage, and it summarizes the key info (cost, capacity, location). However, all actions research, booking, coordination are still on you.Verdict: LLMs are great advisors, but they don‚Äôt take action.2. WorkflowsA workflow is a sequence of steps or tasks to achieve a specific goal often automated.Think of it as a to-do list that gets executed by software in a certain order.What it can do:Collect data (e.g., venue options from a website).Filter and format information.Send updates via email or WhatsApp.Pair with LLMs for summaries.Example in Action: You set up a workflow that checks a banquet hall website every Sunday, filters for 30-person halls, summarizes results via an LLM, and sends you the summary.It saves time, but you still decide and act on the results.Verdict: Workflows are fast and automated but not flexible or intelligent.Press enter or click to view image in full size3. AI AgentsAI Agents combine LLMs with tools, memory, and decision-making skills. They think, act, and adapt and execute tasks like a personal event planner.What they do:Search and compare venues based on your budget and preferences.Decide on the best option.Book the venueSend invites and schedule remindersRemember your preferences for next time.Example:An AI Agent, ‚ÄúDiwaliStar,‚Äù finds venues, picks one within your budget, books it, sends invites, and adds the party to your calendar. It even reminds guests to RSVP.Verdict: AI Agents are like smart assistants who not only plan but act on your behalf.Press enter or click to view image in full sizePress enter or click to view image in full sizeEach approach has its place:LLMs are ideal for brainstorming and writing.Workflows are best for repeating routine tasks.AI Agents bring it all together thinking, acting, and adapting.In future digital assistants, AI Agents will be your go-to for handling real-world, complex tasks like planning your next family Diwali bash.Up Next on the Blog!In Part 2 @I‚Äôll walk you through agent types Single and Multi AI Agents and show how they can take your Diwali party planning to the next level with smarter automation.In Part 1, we explored how LLMs, Workflows, and AI Agents can simplify planning a Diwali party.Single AI Agent vs. Multi AI Agent: What‚Äôs the Difference?medium.comThanks for reading! If you enjoyed this post, please give it a clap \\uf8ffüëè and follow for more AI-powered insights.AgentsAi WorkflowLlmAi AgentAI----1Written by Sahil Arora7 followers¬∑5 followingResponses (1)See all responsesHelpStatusAboutCareersPressBlogPrivacyRulesTermsText to speech\\n\\n\\n\\n\\n\\n\\n\\n\\n\\n\\n\\n\\n\\n\\n\\n\\n\\n\\n\\n\\n\\n\\n\\n\\n\\n\\n\\n\\n\\n\\n\\n\\n\\n\\n\\n\\n\\n'"
            ],
            "application/vnd.google.colaboratory.intrinsic+json": {
              "type": "string"
            }
          },
          "metadata": {},
          "execution_count": 57
        }
      ]
    },
    {
      "cell_type": "code",
      "source": [
        "from langchain_text_splitters import RecursiveCharacterTextSplitter\n",
        "text_splitter = RecursiveCharacterTextSplitter(chunk_size=1000, chunk_overlap=0)\n",
        "texts = text_splitter.split_documents(docs)"
      ],
      "metadata": {
        "id": "U_f6plmW5YHH"
      },
      "execution_count": 69,
      "outputs": []
    },
    {
      "cell_type": "code",
      "source": [
        "len(texts)"
      ],
      "metadata": {
        "colab": {
          "base_uri": "https://localhost:8080/"
        },
        "id": "jCwROruu64ys",
        "outputId": "33cc0d5a-8690-46b2-f6f4-974b9f43a0a1"
      },
      "execution_count": 59,
      "outputs": [
        {
          "output_type": "execute_result",
          "data": {
            "text/plain": [
              "4"
            ]
          },
          "metadata": {},
          "execution_count": 59
        }
      ]
    },
    {
      "cell_type": "code",
      "source": [
        "type(texts)"
      ],
      "metadata": {
        "colab": {
          "base_uri": "https://localhost:8080/"
        },
        "id": "BQTj4rZl7WLA",
        "outputId": "b5ab6695-b360-4418-985a-d98e26d3c705"
      },
      "execution_count": 60,
      "outputs": [
        {
          "output_type": "execute_result",
          "data": {
            "text/plain": [
              "list"
            ]
          },
          "metadata": {},
          "execution_count": 60
        }
      ]
    },
    {
      "cell_type": "code",
      "source": [
        "texts[1]"
      ],
      "metadata": {
        "colab": {
          "base_uri": "https://localhost:8080/"
        },
        "id": "mE1aen4T7a2F",
        "outputId": "03c839e5-01e5-44ea-ba25-39d4f1a049b9"
      },
      "execution_count": 61,
      "outputs": [
        {
          "output_type": "execute_result",
          "data": {
            "text/plain": [
              "Document(metadata={'source': 'https://medium.com/@sahilarora240792/planning-a-family-event-like-a-diwali-party-can-be-overwhelming-coordinating-venues-food-and-565a2ff2f930', 'title': 'Planning a family event like a Diwali party can be overwhelming coordinating venues, food, and‚Ä¶ | by Sahil Arora | Medium', 'description': 'Planning a family event like a Diwali party can be overwhelming coordinating venues, food, and invites for 30 relatives isn‚Äôt easy. Let‚Äôs see how modern AI tools LLMs, Workflows, and AI Agents ‚Äî can‚Ä¶', 'language': 'en'}, page_content='messagesSummarize venue details you provideExample in Action: You ask the LLM to help plan a Diwali party. It suggests banquet halls, menus, and decor ideas. You then share a banquet hall webpage, and it summarizes the key info (cost, capacity, location). However, all actions research, booking, coordination are still on you.Verdict: LLMs are great advisors, but they don‚Äôt take action.2. WorkflowsA workflow is a sequence of steps or tasks to achieve a specific goal often automated.Think of it as a to-do list that gets executed by software in a certain order.What it can do:Collect data (e.g., venue options from a website).Filter and format information.Send updates via email or WhatsApp.Pair with LLMs for summaries.Example in Action: You set up a workflow that checks a banquet hall website every Sunday, filters for 30-person halls, summarizes results via an LLM, and sends you the summary.It saves time, but you still decide and act on the results.Verdict: Workflows are fast and')"
            ]
          },
          "metadata": {},
          "execution_count": 61
        }
      ]
    },
    {
      "cell_type": "markdown",
      "source": [
        "## *Doc for reference :https://python.langchain.com/docs/integrations/vectorstores/faiss/*"
      ],
      "metadata": {
        "id": "eMNOXHZg-UEJ"
      }
    },
    {
      "cell_type": "code",
      "source": [
        "!pip install -qU langchain-community faiss-cpu"
      ],
      "metadata": {
        "colab": {
          "base_uri": "https://localhost:8080/"
        },
        "id": "v0FJGaLj8hHD",
        "outputId": "77dc8641-79e7-4509-d550-2bafcf57eb37"
      },
      "execution_count": 16,
      "outputs": [
        {
          "output_type": "stream",
          "name": "stdout",
          "text": [
            "\u001b[2K   \u001b[90m━━━━━━━━━━━━━━━━━━━━━━━━━━━━━━━━━━━━━━━━\u001b[0m \u001b[32m31.4/31.4 MB\u001b[0m \u001b[31m59.4 MB/s\u001b[0m eta \u001b[36m0:00:00\u001b[0m\n",
            "\u001b[?25h"
          ]
        }
      ]
    },
    {
      "cell_type": "code",
      "source": [
        "!pip install -qU langchain-google-genai"
      ],
      "metadata": {
        "colab": {
          "base_uri": "https://localhost:8080/"
        },
        "id": "OdPn0CkM83Fd",
        "outputId": "46375946-6097-4444-a08d-b4535758c204"
      },
      "execution_count": 17,
      "outputs": [
        {
          "output_type": "stream",
          "name": "stdout",
          "text": [
            "\u001b[2K   \u001b[90m━━━━━━━━━━━━━━━━━━━━━━━━━━━━━━━━━━━━━━━━\u001b[0m \u001b[32m49.4/49.4 kB\u001b[0m \u001b[31m1.9 MB/s\u001b[0m eta \u001b[36m0:00:00\u001b[0m\n",
            "\u001b[2K   \u001b[90m━━━━━━━━━━━━━━━━━━━━━━━━━━━━━━━━━━━━━━━━\u001b[0m \u001b[32m1.4/1.4 MB\u001b[0m \u001b[31m20.4 MB/s\u001b[0m eta \u001b[36m0:00:00\u001b[0m\n",
            "\u001b[?25h\u001b[31mERROR: pip's dependency resolver does not currently take into account all the packages that are installed. This behaviour is the source of the following dependency conflicts.\n",
            "google-generativeai 0.8.5 requires google-ai-generativelanguage==0.6.15, but you have google-ai-generativelanguage 0.6.18 which is incompatible.\u001b[0m\u001b[31m\n",
            "\u001b[0m"
          ]
        }
      ]
    },
    {
      "cell_type": "code",
      "source": [
        "import getpass\n",
        "import os\n",
        "\n",
        "if not os.environ.get(\"GOOGLE_API_KEY\"):\n",
        "  os.environ[\"GOOGLE_API_KEY\"] = getpass.getpass(\"Enter API key for Google Gemini: \")\n",
        "\n",
        "from langchain_google_genai import GoogleGenerativeAIEmbeddings\n",
        "\n",
        "embeddings = GoogleGenerativeAIEmbeddings(model=\"models/gemini-embedding-001\")"
      ],
      "metadata": {
        "id": "4QDxasVG86AD"
      },
      "execution_count": 62,
      "outputs": []
    },
    {
      "cell_type": "code",
      "source": [
        "from langchain_community.vectorstores import FAISS\n",
        "vector_store = FAISS.from_documents(texts,embeddings)"
      ],
      "metadata": {
        "id": "xbgY0xo69BJ6"
      },
      "execution_count": 70,
      "outputs": []
    },
    {
      "cell_type": "code",
      "source": [
        "vector_store"
      ],
      "metadata": {
        "colab": {
          "base_uri": "https://localhost:8080/"
        },
        "id": "lJEzanf29ymp",
        "outputId": "93f893b3-09bc-4d87-df44-360602bd7b9a"
      },
      "execution_count": 64,
      "outputs": [
        {
          "output_type": "execute_result",
          "data": {
            "text/plain": [
              "<langchain_community.vectorstores.faiss.FAISS at 0x78eaaba2b7d0>"
            ]
          },
          "metadata": {},
          "execution_count": 64
        }
      ]
    },
    {
      "cell_type": "code",
      "source": [
        "results=vector_store.similarity_search(\"AI Agents combine LLMs with tools and\",1)"
      ],
      "metadata": {
        "id": "DHQceqfU-OXC"
      },
      "execution_count": 71,
      "outputs": []
    },
    {
      "cell_type": "code",
      "source": [
        "results"
      ],
      "metadata": {
        "colab": {
          "base_uri": "https://localhost:8080/"
        },
        "id": "WvBlyjhH-1Eg",
        "outputId": "4a8256fe-5fa9-45bc-a8cf-ba68acadc057"
      },
      "execution_count": 72,
      "outputs": [
        {
          "output_type": "execute_result",
          "data": {
            "text/plain": [
              "[Document(id='173c124c-bc2e-4a93-bbb7-c6129bdce217', metadata={'source': 'https://medium.com/@sahilarora240792/planning-a-family-event-like-a-diwali-party-can-be-overwhelming-coordinating-venues-food-and-565a2ff2f930', 'title': 'Planning a family event like a Diwali party can be overwhelming coordinating venues, food, and‚Ä¶ | by Sahil Arora | Medium', 'description': 'Planning a family event like a Diwali party can be overwhelming coordinating venues, food, and invites for 30 relatives isn‚Äôt easy. Let‚Äôs see how modern AI tools LLMs, Workflows, and AI Agents ‚Äî can‚Ä¶', 'language': 'en'}, page_content='AgentsAI Agents combine LLMs with tools, memory, and decision-making skills. They think, act, and adapt and execute tasks like a personal event planner.What they do:Search and compare venues based on your budget and preferences.Decide on the best option.Book the venueSend invites and schedule remindersRemember your preferences for next time.Example:An AI Agent, ‚ÄúDiwaliStar,‚Äù finds venues, picks one within your budget, books it, sends invites, and adds the party to your calendar. It even reminds guests to RSVP.Verdict: AI Agents are like smart assistants who not only plan but act on your behalf.Press enter or click to view image in full sizePress enter or click to view image in full sizeEach approach has its place:LLMs are ideal for brainstorming and writing.Workflows are best for repeating routine tasks.AI Agents bring it all together thinking, acting, and adapting.In future digital assistants, AI Agents will be your go-to for handling real-world, complex tasks like planning your')]"
            ]
          },
          "metadata": {},
          "execution_count": 72
        }
      ]
    },
    {
      "cell_type": "code",
      "source": [
        "results[0].page_content"
      ],
      "metadata": {
        "colab": {
          "base_uri": "https://localhost:8080/",
          "height": 143
        },
        "id": "OP_z-zDa-9Vg",
        "outputId": "483a34c6-e3d6-4ba8-bad7-e951801de6d6"
      },
      "execution_count": 73,
      "outputs": [
        {
          "output_type": "execute_result",
          "data": {
            "text/plain": [
              "'AgentsAI Agents combine LLMs with tools, memory, and decision-making skills. They think, act, and adapt and execute tasks like a personal event planner.What they do:Search and compare venues based on your budget and preferences.Decide on the best option.Book the venueSend invites and schedule remindersRemember your preferences for next time.Example:An AI Agent, ‚ÄúDiwaliStar,‚Äù finds venues, picks one within your budget, books it, sends invites, and adds the party to your calendar. It even reminds guests to RSVP.Verdict: AI Agents are like smart assistants who not only plan but act on your behalf.Press enter or click to view image in full sizePress enter or click to view image in full sizeEach approach has its place:LLMs are ideal for brainstorming and writing.Workflows are best for repeating routine tasks.AI Agents bring it all together thinking, acting, and adapting.In future digital assistants, AI Agents will be your go-to for handling real-world, complex tasks like planning your'"
            ],
            "application/vnd.google.colaboratory.intrinsic+json": {
              "type": "string"
            }
          },
          "metadata": {},
          "execution_count": 73
        }
      ]
    },
    {
      "cell_type": "code",
      "source": [
        "from langchain.chains.combine_documents import create_stuff_documents_chain\n",
        "from langchain_core.prompts import ChatPromptTemplate\n",
        "from langchain_google_genai import ChatGoogleGenerativeAI\n",
        "# This controls how each document will be formatted. Specifically,\n",
        "# it will be passed to `format_document` - see that function for more\n",
        "# details.\n",
        "\n",
        "\n",
        "llm=ChatGoogleGenerativeAI(model=\"gemini-2.5-flash\")\n",
        "print(llm)\n",
        "\n",
        "# The prompt here should take as an input variable the\n",
        "# `document_variable_name`\n",
        "prompt = ChatPromptTemplate.from_template(\n",
        "    \"Answer using this content: {context}\"\n",
        ")\n",
        "llm_chain = create_stuff_documents_chain(llm=llm, prompt=prompt)\n"
      ],
      "metadata": {
        "colab": {
          "base_uri": "https://localhost:8080/"
        },
        "id": "d2NrSzEFDESj",
        "outputId": "5cd4bca4-5b51-48cd-ff9d-9b02250834ba"
      },
      "execution_count": 74,
      "outputs": [
        {
          "output_type": "stream",
          "name": "stdout",
          "text": [
            "model='models/gemini-2.5-flash' google_api_key=SecretStr('**********') client=<google.ai.generativelanguage_v1beta.services.generative_service.client.GenerativeServiceClient object at 0x78eab0d70cd0> default_metadata=() model_kwargs={}\n"
          ]
        }
      ]
    },
    {
      "cell_type": "code",
      "source": [
        "llm_chain"
      ],
      "metadata": {
        "colab": {
          "base_uri": "https://localhost:8080/"
        },
        "id": "dbfN28kfKmOR",
        "outputId": "6c43585f-e314-4dd1-a6cc-e58ba7acefb9"
      },
      "execution_count": 75,
      "outputs": [
        {
          "output_type": "execute_result",
          "data": {
            "text/plain": [
              "RunnableBinding(bound=RunnableBinding(bound=RunnableAssign(mapper={\n",
              "  context: RunnableLambda(format_docs)\n",
              "}), kwargs={}, config={'run_name': 'format_inputs'}, config_factories=[])\n",
              "| ChatPromptTemplate(input_variables=['context'], input_types={}, partial_variables={}, messages=[HumanMessagePromptTemplate(prompt=PromptTemplate(input_variables=['context'], input_types={}, partial_variables={}, template='Answer using this content: {context}'), additional_kwargs={})])\n",
              "| ChatGoogleGenerativeAI(model='models/gemini-2.5-flash', google_api_key=SecretStr('**********'), client=<google.ai.generativelanguage_v1beta.services.generative_service.client.GenerativeServiceClient object at 0x78eab0d70cd0>, default_metadata=(), model_kwargs={})\n",
              "| StrOutputParser(), kwargs={}, config={'run_name': 'stuff_documents_chain'}, config_factories=[])"
            ]
          },
          "metadata": {},
          "execution_count": 75
        }
      ]
    },
    {
      "cell_type": "code",
      "source": [
        "from langchain_core.documents import Document\n",
        "llm_chain.invoke({\n",
        "    \"input\":\"AI Agents combine LLMs with tools\",\n",
        "    \"context\": [Document(page_content=\"AgentsAI Agents combine LLMs with tools, memory, and decision-making skills. They think, act, and adapt and execute tasks like a personal event planner\")]\n",
        "})"
      ],
      "metadata": {
        "colab": {
          "base_uri": "https://localhost:8080/",
          "height": 35
        },
        "id": "tfd2xHYzLWMN",
        "outputId": "20631398-a541-49e0-e20b-03bbf7f43b38"
      },
      "execution_count": 78,
      "outputs": [
        {
          "output_type": "execute_result",
          "data": {
            "text/plain": [
              "'AgentsAI Agents combine LLMs with tools, memory, and decision-making skills. They think, act, and adapt and execute tasks like a personal event planner.'"
            ],
            "application/vnd.google.colaboratory.intrinsic+json": {
              "type": "string"
            }
          },
          "metadata": {},
          "execution_count": 78
        }
      ]
    },
    {
      "cell_type": "markdown",
      "source": [
        "***Input --->Retriever-->Vector Store Db***"
      ],
      "metadata": {
        "id": "7v-I45LXQvKa"
      }
    },
    {
      "cell_type": "code",
      "source": [
        "retriever=vector_store.as_retriever()"
      ],
      "metadata": {
        "id": "vk3i2NheQ50g"
      },
      "execution_count": 79,
      "outputs": []
    },
    {
      "cell_type": "code",
      "source": [
        "from langchain.chains import create_retrieval_chain\n",
        "retrieval_chain=create_retrieval_chain(retriever,llm_chain)"
      ],
      "metadata": {
        "id": "0QdIkK1pRKOM"
      },
      "execution_count": 81,
      "outputs": []
    },
    {
      "cell_type": "code",
      "source": [
        "retrieval_chain"
      ],
      "metadata": {
        "colab": {
          "base_uri": "https://localhost:8080/"
        },
        "id": "wZIMcvz8RaHf",
        "outputId": "612a2a16-4e81-489b-fe59-cb264d7e7c6e"
      },
      "execution_count": 82,
      "outputs": [
        {
          "output_type": "execute_result",
          "data": {
            "text/plain": [
              "RunnableBinding(bound=RunnableAssign(mapper={\n",
              "  context: RunnableBinding(bound=RunnableLambda(lambda x: x['input'])\n",
              "           | VectorStoreRetriever(tags=['FAISS', 'GoogleGenerativeAIEmbeddings'], vectorstore=<langchain_community.vectorstores.faiss.FAISS object at 0x78ead79e9a10>, search_kwargs={}), kwargs={}, config={'run_name': 'retrieve_documents'}, config_factories=[])\n",
              "})\n",
              "| RunnableAssign(mapper={\n",
              "    answer: RunnableBinding(bound=RunnableBinding(bound=RunnableAssign(mapper={\n",
              "              context: RunnableLambda(format_docs)\n",
              "            }), kwargs={}, config={'run_name': 'format_inputs'}, config_factories=[])\n",
              "            | ChatPromptTemplate(input_variables=['context'], input_types={}, partial_variables={}, messages=[HumanMessagePromptTemplate(prompt=PromptTemplate(input_variables=['context'], input_types={}, partial_variables={}, template='Answer using this content: {context}'), additional_kwargs={})])\n",
              "            | ChatGoogleGenerativeAI(model='models/gemini-2.5-flash', google_api_key=SecretStr('**********'), client=<google.ai.generativelanguage_v1beta.services.generative_service.client.GenerativeServiceClient object at 0x78eab0d70cd0>, default_metadata=(), model_kwargs={})\n",
              "            | StrOutputParser(), kwargs={}, config={'run_name': 'stuff_documents_chain'}, config_factories=[])\n",
              "  }), kwargs={}, config={'run_name': 'retrieval_chain'}, config_factories=[])"
            ]
          },
          "metadata": {},
          "execution_count": 82
        }
      ]
    },
    {
      "cell_type": "code",
      "source": [
        "results=retrieval_chain.invoke({\"input\":\"AI Agents combine LLMs with tools\"})"
      ],
      "metadata": {
        "id": "FPFDX4gJRpzj"
      },
      "execution_count": 88,
      "outputs": []
    },
    {
      "cell_type": "code",
      "source": [
        "results"
      ],
      "metadata": {
        "colab": {
          "base_uri": "https://localhost:8080/"
        },
        "id": "84X5ofO7R3XX",
        "outputId": "2881e0a8-2509-492b-c1db-4237d2731d5e"
      },
      "execution_count": 85,
      "outputs": [
        {
          "output_type": "execute_result",
          "data": {
            "text/plain": [
              "{'input': 'AI Agents combine LLMs with tools',\n",
              " 'context': [Document(id='173c124c-bc2e-4a93-bbb7-c6129bdce217', metadata={'source': 'https://medium.com/@sahilarora240792/planning-a-family-event-like-a-diwali-party-can-be-overwhelming-coordinating-venues-food-and-565a2ff2f930', 'title': 'Planning a family event like a Diwali party can be overwhelming coordinating venues, food, and‚Ä¶ | by Sahil Arora | Medium', 'description': 'Planning a family event like a Diwali party can be overwhelming coordinating venues, food, and invites for 30 relatives isn‚Äôt easy. Let‚Äôs see how modern AI tools LLMs, Workflows, and AI Agents ‚Äî can‚Ä¶', 'language': 'en'}, page_content='AgentsAI Agents combine LLMs with tools, memory, and decision-making skills. They think, act, and adapt and execute tasks like a personal event planner.What they do:Search and compare venues based on your budget and preferences.Decide on the best option.Book the venueSend invites and schedule remindersRemember your preferences for next time.Example:An AI Agent, ‚ÄúDiwaliStar,‚Äù finds venues, picks one within your budget, books it, sends invites, and adds the party to your calendar. It even reminds guests to RSVP.Verdict: AI Agents are like smart assistants who not only plan but act on your behalf.Press enter or click to view image in full sizePress enter or click to view image in full sizeEach approach has its place:LLMs are ideal for brainstorming and writing.Workflows are best for repeating routine tasks.AI Agents bring it all together thinking, acting, and adapting.In future digital assistants, AI Agents will be your go-to for handling real-world, complex tasks like planning your'),\n",
              "  Document(id='f299da8b-7536-4480-8415-8add54cbe5f1', metadata={'source': 'https://medium.com/@sahilarora240792/planning-a-family-event-like-a-diwali-party-can-be-overwhelming-coordinating-venues-food-and-565a2ff2f930', 'title': 'Planning a family event like a Diwali party can be overwhelming coordinating venues, food, and‚Ä¶ | by Sahil Arora | Medium', 'description': 'Planning a family event like a Diwali party can be overwhelming coordinating venues, food, and invites for 30 relatives isn‚Äôt easy. Let‚Äôs see how modern AI tools LLMs, Workflows, and AI Agents ‚Äî can‚Ä¶', 'language': 'en'}, page_content='Diwali party. It suggests banquet halls, menus, and decor ideas. You then share a banquet hall webpage, and it summarizes the key info (cost, capacity, location). However, all actions research, booking, coordination are still on you.Verdict: LLMs are great advisors, but they don‚Äôt take action.2. WorkflowsA workflow is a sequence of steps or tasks to achieve a specific goal often automated.Think of it as a to-do list that gets executed by software in a certain order.What it can do:Collect data (e.g., venue options from a website).Filter and format information.Send updates via email or WhatsApp.Pair with LLMs for summaries.Example in Action: You set up a workflow that checks a banquet hall website every Sunday, filters for 30-person halls, summarizes results via an LLM, and sends you the summary.It saves time, but you still decide and act on the results.Verdict: Workflows are fast and automated but not flexible or intelligent.Press enter or click to view image in full size3. AI'),\n",
              "  Document(id='c5e5629c-af6a-427c-a8dd-711694813756', metadata={'source': 'https://medium.com/@sahilarora240792/planning-a-family-event-like-a-diwali-party-can-be-overwhelming-coordinating-venues-food-and-565a2ff2f930', 'title': 'Planning a family event like a Diwali party can be overwhelming coordinating venues, food, and‚Ä¶ | by Sahil Arora | Medium', 'description': 'Planning a family event like a Diwali party can be overwhelming coordinating venues, food, and invites for 30 relatives isn‚Äôt easy. Let‚Äôs see how modern AI tools LLMs, Workflows, and AI Agents ‚Äî can‚Ä¶', 'language': 'en'}, page_content='Planning a family event like a Diwali party can be overwhelming coordinating venues, food, and‚Ä¶ | by Sahil Arora | MediumSitemapOpen in appSign upSign inMedium LogoWriteSign upSign inSahil Arora3 min read¬∑May 7, 2025--1ListenSharePress enter or click to view image in full sizePlanning a family event like a Diwali party can be overwhelming coordinating venues, food, and invites for 30 relatives isn‚Äôt easy. Let‚Äôs see how modern AI tools LLMs, Workflows, and AI Agents ‚Äî can help simplify this task.1. Large Language Models (LLMs)LLMs are AI models trained on huge amounts of text data. They understand and generate human-like language.Think of it as a smart friend who‚Äôs great at giving suggestions, summarising information, and writing content.Press enter or click to view image in full sizeWhat it can do:Generate ideas for your Diwali partySuggest venues, food, and decorWrite invitation messagesSummarize venue details you provideExample in Action: You ask the LLM to help plan a'),\n",
              "  Document(id='0fc846c0-b780-4999-8f16-251700744831', metadata={'source': 'https://medium.com/@sahilarora240792/planning-a-family-event-like-a-diwali-party-can-be-overwhelming-coordinating-venues-food-and-565a2ff2f930', 'title': 'Planning a family event like a Diwali party can be overwhelming coordinating venues, food, and‚Ä¶ | by Sahil Arora | Medium', 'description': 'Planning a family event like a Diwali party can be overwhelming coordinating venues, food, and invites for 30 relatives isn‚Äôt easy. Let‚Äôs see how modern AI tools LLMs, Workflows, and AI Agents ‚Äî can‚Ä¶', 'language': 'en'}, page_content='next family Diwali bash.Up Next on the Blog!In Part 2 @I‚Äôll walk you through agent types Single and Multi AI Agents and show how they can take your Diwali party planning to the next level with smarter automation.In Part 1, we explored how LLMs, Workflows, and AI Agents can simplify planning a Diwali party.Single AI Agent vs. Multi AI Agent: What‚Äôs the Difference?medium.comThanks for reading! If you enjoyed this post, please give it a clap \\uf8ffüëè and follow for more AI-powered insights.AgentsAi WorkflowLlmAi AgentAI----1Written by Sahil Arora7 followers¬∑5 followingResponses (1)See all responsesHelpStatusAboutCareersPressBlogPrivacyRulesTermsText to speech')],\n",
              " 'answer': 'AI Agents, also referred to as AgentsAI Agents, combine Large Language Models (LLMs) with tools, memory, and decision-making skills. They are designed to think, act, and adapt, executing tasks much like a personal event planner.\\n\\n**What they do:**\\n\\n*   Search and compare venues based on budget and preferences.\\n*   Decide on the best option.\\n*   Book the venue.\\n*   Send invites and schedule reminders.\\n*   Remember preferences for next time.\\n\\n**Example:**\\nAn AI Agent named \"DiwaliStar\" can find venues, select one within a budget, book it, send invites, add the party to a calendar, and even remind guests to RSVP.\\n\\n**Verdict:**\\nAI Agents are described as smart assistants who not only plan but also act on your behalf. They bring together thinking, acting, and adapting, and are anticipated to be the go-to for handling real-world, complex tasks like planning events in future digital assistants.'}"
            ]
          },
          "metadata": {},
          "execution_count": 85
        }
      ]
    },
    {
      "cell_type": "code",
      "source": [
        "results['answer']"
      ],
      "metadata": {
        "colab": {
          "base_uri": "https://localhost:8080/",
          "height": 125
        },
        "id": "QwPti1xXSAVa",
        "outputId": "14b021f2-00a0-4ec9-9281-b0dc00ab9e88"
      },
      "execution_count": 86,
      "outputs": [
        {
          "output_type": "execute_result",
          "data": {
            "text/plain": [
              "'AI Agents, also referred to as AgentsAI Agents, combine Large Language Models (LLMs) with tools, memory, and decision-making skills. They are designed to think, act, and adapt, executing tasks much like a personal event planner.\\n\\n**What they do:**\\n\\n*   Search and compare venues based on budget and preferences.\\n*   Decide on the best option.\\n*   Book the venue.\\n*   Send invites and schedule reminders.\\n*   Remember preferences for next time.\\n\\n**Example:**\\nAn AI Agent named \"DiwaliStar\" can find venues, select one within a budget, book it, send invites, add the party to a calendar, and even remind guests to RSVP.\\n\\n**Verdict:**\\nAI Agents are described as smart assistants who not only plan but also act on your behalf. They bring together thinking, acting, and adapting, and are anticipated to be the go-to for handling real-world, complex tasks like planning events in future digital assistants.'"
            ],
            "application/vnd.google.colaboratory.intrinsic+json": {
              "type": "string"
            }
          },
          "metadata": {},
          "execution_count": 86
        }
      ]
    },
    {
      "cell_type": "code",
      "source": [],
      "metadata": {
        "id": "s9lLtoBpSEvF"
      },
      "execution_count": null,
      "outputs": []
    }
  ]
}